{
  "nbformat": 4,
  "nbformat_minor": 0,
  "metadata": {
    "colab": {
      "provenance": [],
      "authorship_tag": "ABX9TyNxbLlRZPSLV92JUZu4bHIP",
      "include_colab_link": true
    },
    "kernelspec": {
      "name": "python3",
      "display_name": "Python 3"
    },
    "language_info": {
      "name": "python"
    }
  },
  "cells": [
    {
      "cell_type": "markdown",
      "metadata": {
        "id": "view-in-github",
        "colab_type": "text"
      },
      "source": [
        "<a href=\"https://colab.research.google.com/github/PCBZ/CS6140/blob/main/HW5/HW5_Problem1.ipynb\" target=\"_parent\"><img src=\"https://colab.research.google.com/assets/colab-badge.svg\" alt=\"Open In Colab\"/></a>"
      ]
    },
    {
      "cell_type": "code",
      "execution_count": 7,
      "metadata": {
        "colab": {
          "base_uri": "https://localhost:8080/"
        },
        "id": "d1PZiDH5fWU2",
        "outputId": "2d25695e-3b24-49d7-fc0b-6ba17ee54b8e"
      },
      "outputs": [
        {
          "output_type": "stream",
          "name": "stdout",
          "text": [
            "Requirement already satisfied: ucimlrepo in /usr/local/lib/python3.11/dist-packages (0.0.7)\n",
            "Requirement already satisfied: pandas>=1.0.0 in /usr/local/lib/python3.11/dist-packages (from ucimlrepo) (2.2.2)\n",
            "Requirement already satisfied: certifi>=2020.12.5 in /usr/local/lib/python3.11/dist-packages (from ucimlrepo) (2025.7.14)\n",
            "Requirement already satisfied: numpy>=1.23.2 in /usr/local/lib/python3.11/dist-packages (from pandas>=1.0.0->ucimlrepo) (2.0.2)\n",
            "Requirement already satisfied: python-dateutil>=2.8.2 in /usr/local/lib/python3.11/dist-packages (from pandas>=1.0.0->ucimlrepo) (2.9.0.post0)\n",
            "Requirement already satisfied: pytz>=2020.1 in /usr/local/lib/python3.11/dist-packages (from pandas>=1.0.0->ucimlrepo) (2025.2)\n",
            "Requirement already satisfied: tzdata>=2022.7 in /usr/local/lib/python3.11/dist-packages (from pandas>=1.0.0->ucimlrepo) (2025.2)\n",
            "Requirement already satisfied: six>=1.5 in /usr/local/lib/python3.11/dist-packages (from python-dateutil>=2.8.2->pandas>=1.0.0->ucimlrepo) (1.17.0)\n",
            "linear kernel training Accuracy:  93.32%\n",
            "linear kernel testing Accuracy:  91.53%\n",
            "rbf kernel training Accuracy:  94.84%\n",
            "rbf kernel testing Accuracy:  92.29%\n",
            "poly kernel training Accuracy:  88.99%\n",
            "poly kernel testing Accuracy:  87.19%\n"
          ]
        }
      ],
      "source": [
        "%pip install ucimlrepo\n",
        "\n",
        "from ucimlrepo import fetch_ucirepo\n",
        "from sklearn.preprocessing import StandardScaler\n",
        "from sklearn.model_selection import train_test_split\n",
        "from sklearn.svm import SVC, LinearSVC\n",
        "from sklearn.metrics import accuracy_score\n",
        "import numpy as np\n",
        "\n",
        "def fetch_spambase_data():\n",
        "    \"\"\"\n",
        "    Fetch Spambase dataset from UCI repository\n",
        "    \"\"\"\n",
        "    spambase = fetch_ucirepo(id=94)\n",
        "\n",
        "    # Extract features and targets\n",
        "    X = spambase.data.features.values\n",
        "    y = spambase.data.targets.values.ravel()\n",
        "\n",
        "    return X, y\n",
        "\n",
        "def preprocess_data(X, y):\n",
        "    \"\"\"\n",
        "    Preprocess the data\n",
        "    \"\"\"\n",
        "    # Covert labels to 1/-1\n",
        "    y = np.where(y == 0, -1, 1)\n",
        "\n",
        "    # Split data\n",
        "    X_train, X_test, y_train, y_test = train_test_split(X, y, test_size=0.2)\n",
        "\n",
        "    # Standardization\n",
        "    scaler = StandardScaler()\n",
        "    X_train = scaler.fit_transform(X_train)\n",
        "    X_test = scaler.transform(X_test)\n",
        "\n",
        "    return X_train, X_test, y_train, y_test\n",
        "\n",
        "def train_and_evaluate_svm_model(X_train, y_train, X_test, y_test):\n",
        "    \"\"\"\n",
        "    Train SVM model\n",
        "    \"\"\"\n",
        "    kernels = ['linear', 'rbf', 'poly']\n",
        "\n",
        "    for kernel in kernels:\n",
        "        if kernel == 'poly':\n",
        "            model = SVC(kernel=kernel, degree=2, C=5, gamma=0.01)\n",
        "        else:\n",
        "            model = SVC(kernel=kernel)\n",
        "\n",
        "        model.fit(X_train, y_train)\n",
        "\n",
        "        y_train_pred = model.predict(X_train)\n",
        "        y_test_pred = model.predict(X_test)\n",
        "        train_accuracy = accuracy_score(y_train, y_train_pred)\n",
        "        test_accuracy = accuracy_score(y_test, y_test_pred)\n",
        "\n",
        "        print(f\"{kernel} kernel training Accuracy: {train_accuracy: .2%}\")\n",
        "        print(f\"{kernel} kernel testing Accuracy: {test_accuracy: .2%}\")\n",
        "\n",
        "\n",
        "if __name__ == \"__main__\":\n",
        "    X, y = fetch_spambase_data()\n",
        "    X_train, X_test, y_train, y_test = preprocess_data(X, y)\n",
        "\n",
        "    train_and_evaluate_svm_model(X_train, y_train, X_test, y_test)"
      ]
    },
    {
      "cell_type": "code",
      "source": [
        "import requests\n",
        "import zipfile\n",
        "import numpy as np\n",
        "from sklearn.svm import SVC, LinearSVC\n",
        "from sklearn.metrics import accuracy_score\n",
        "import os\n",
        "\n",
        "def fetch_data():\n",
        "    zip_url = \"https://www.khoury.northeastern.edu/home/vip/teach/MLcourse/data/mnist_haar_bingyu.zip\"\n",
        "    zip_filename = \"mnist_haar_bingyu.zip\"\n",
        "    extracted_folder = \"mnist_haar_bingyu\"\n",
        "    response = requests.get(zip_url)\n",
        "    with open(zip_filename, 'wb') as f:\n",
        "        f.write(response.content)\n",
        "\n",
        "    with zipfile.ZipFile(zip_filename, 'r') as zip_ref:\n",
        "        zip_ref.extractall(extracted_folder)\n",
        "\n",
        "    train_images = np.loadtxt(os.path.join(extracted_folder, \"training_image.txt\"), delimiter=',')\n",
        "    train_labels = np.loadtxt(os.path.join(extracted_folder, \"training_label.txt\"), dtype=int, delimiter=',')\n",
        "    test_images = np.loadtxt(os.path.join(extracted_folder, \"testing_image.txt\"), delimiter=',')\n",
        "    test_labels = np.loadtxt(os.path.join(extracted_folder, \"testing_label.txt\"), dtype=int, delimiter=',')\n",
        "\n",
        "\n",
        "    return train_images, train_labels, test_images, test_labels\n",
        "\n",
        "def train_and_evaluate_svm_model(X_train, y_train, X_test, y_test):\n",
        "\n",
        "    kernels = ['linear', 'rbf', 'poly']\n",
        "\n",
        "    for kernel in kernels:\n",
        "        if kernel == 'linear':\n",
        "            svm = LinearSVC()\n",
        "        else:\n",
        "            svm = SVC(kernel=kernel)\n",
        "\n",
        "        svm.fit(X_train, y_train)\n",
        "\n",
        "        y_pred_train = svm.predict(X_train)\n",
        "        y_pred_test = svm.predict(X_test)\n",
        "\n",
        "        train_accuracy = accuracy_score(y_train, y_pred_train)\n",
        "        test_accuracy = accuracy_score(y_test, y_pred_test)\n",
        "\n",
        "        print(f\"{kernel} kernel training Accuracy: {train_accuracy: .2%}\")\n",
        "        print(f\"{kernel} kernel testing Accuracy: {test_accuracy: .2%}\")\n",
        "\n",
        "if __name__ == \"__main__\":\n",
        "    train_images, train_labels, test_images, test_labels = fetch_data()\n",
        "    train_and_evaluate_svm_model(train_images, train_labels, test_images, test_labels)"
      ],
      "metadata": {
        "colab": {
          "base_uri": "https://localhost:8080/"
        },
        "id": "ERqZxn600_j8",
        "outputId": "8afbd79c-f949-49a1-97c5-97161cc89efa"
      },
      "execution_count": null,
      "outputs": [
        {
          "output_type": "stream",
          "name": "stdout",
          "text": [
            "linear kernel training Accuracy:  90.96%\n",
            "linear kernel testing Accuracy:  91.47%\n",
            "rbf kernel training Accuracy:  96.77%\n",
            "rbf kernel testing Accuracy:  96.37%\n",
            "poly kernel training Accuracy:  97.02%\n",
            "poly kernel testing Accuracy:  96.45%\n"
          ]
        }
      ]
    }
  ]
}