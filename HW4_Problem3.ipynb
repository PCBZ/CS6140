{
  "nbformat": 4,
  "nbformat_minor": 0,
  "metadata": {
    "colab": {
      "provenance": [],
      "authorship_tag": "ABX9TyN1jAOmittJliSiX+fUsYj1",
      "include_colab_link": true
    },
    "kernelspec": {
      "name": "python3",
      "display_name": "Python 3"
    },
    "language_info": {
      "name": "python"
    }
  },
  "cells": [
    {
      "cell_type": "markdown",
      "metadata": {
        "id": "view-in-github",
        "colab_type": "text"
      },
      "source": [
        "<a href=\"https://colab.research.google.com/github/PCBZ/CS6140/blob/main/HW4/HW4_Problem3.ipynb\" target=\"_parent\"><img src=\"https://colab.research.google.com/assets/colab-badge.svg\" alt=\"Open In Colab\"/></a>"
      ]
    },
    {
      "cell_type": "code",
      "execution_count": 12,
      "metadata": {
        "colab": {
          "base_uri": "https://localhost:8080/"
        },
        "id": "Tr62ZkAfdN1d",
        "outputId": "63b8cdc8-a16f-4071-dda9-9427d1498a71"
      },
      "outputs": [
        {
          "output_type": "stream",
          "name": "stdout",
          "text": [
            "\n",
            "Accuracy per class:\n",
            "------------------------------------------------------------\n",
            "Class 0 (comp.graphics  ): 80.21%\n",
            "Class 1 (misc.forsale   ): 76.15%\n",
            "Class 2 (rec.autos      ): 61.36%\n",
            "Class 3 (rec.sport.hockey): 83.46%\n",
            "Class 4 (sci.med        ): 65.40%\n",
            "Class 5 (sci.space      ): 78.68%\n",
            "Class 6 (soc.religion.christian): 77.89%\n",
            "Class 7 (talk.politics.guns): 65.66%\n",
            "------------------------------------------------------------\n",
            "Overall Accuracy: 73.67%\n"
          ]
        }
      ],
      "source": [
        "import numpy as np\n",
        "from sklearn.linear_model import LogisticRegression\n",
        "from sklearn.metrics import confusion_matrix\n",
        "import pandas as pd\n",
        "from sklearn.feature_extraction.text import TfidfVectorizer\n",
        "from sklearn.datasets import fetch_20newsgroups\n",
        "\n",
        "def fetch_data():\n",
        "    \"\"\"\n",
        "    Fetch the 20 Newsgroups dataset, vectorize the text using TF-IDF,\n",
        "    and split into train and test sets.\n",
        "    \"\"\"\n",
        "    categories = [\n",
        "        'soc.religion.christian',\n",
        "        'comp.graphics',\n",
        "        'misc.forsale',\n",
        "        'rec.autos',\n",
        "        'sci.space',\n",
        "        'sci.med',\n",
        "        'rec.sport.hockey',\n",
        "        'talk.politics.guns'\n",
        "    ]\n",
        "\n",
        "    newsgroups_train = fetch_20newsgroups(subset='train', categories=categories, remove=('headers', 'footers', 'quotes'))\n",
        "    X_train_text, y_train = newsgroups_train.data, newsgroups_train.target\n",
        "\n",
        "    newsgroups_test = fetch_20newsgroups(subset='test', categories=categories, remove=('headers', 'footers', 'quotes'))\n",
        "    X_test_text, y_test = newsgroups_test.data, newsgroups_test.target\n",
        "\n",
        "    # TF-IDF vectorization\n",
        "    vectorizer = TfidfVectorizer(max_features=5000, stop_words='english', ngram_range=(1, 2), min_df=2, max_df=0.95, sublinear_tf=True)\n",
        "\n",
        "    X_train = vectorizer.fit_transform(X_train_text)\n",
        "    X_test = vectorizer.transform(X_test_text)\n",
        "\n",
        "    return X_train, y_train, X_test, y_test, newsgroups_train.target_names\n",
        "\n",
        "\n",
        "def main():\n",
        "    # Load data\n",
        "    X_train, y_train, X_test, y_test, categories = fetch_data()\n",
        "\n",
        "    # Using strong L1 regularization\n",
        "    l1_model = LogisticRegression(penalty='l1', solver='saga', C=0.5, max_iter=2000, tol=0.001)\n",
        "    l1_model.fit(X_train, y_train)\n",
        "\n",
        "    # Get top 200 features\n",
        "    top_200_indices = np.argsort(np.sum(np.abs(l1_model.coef_), axis=0))[-200:]\n",
        "\n",
        "    X_train_selected = X_train[:, top_200_indices]\n",
        "    X_test_selected = X_test[:, top_200_indices]\n",
        "\n",
        "    l2_model = LogisticRegression(penalty='l2', solver='lbfgs', C=1.0, max_iter=1000, tol=0.0001)\n",
        "    l2_model.fit(X_train_selected, y_train)\n",
        "\n",
        "    y_pred = l2_model.predict(X_test_selected)\n",
        "\n",
        "    cm = confusion_matrix(y_test, y_pred)\n",
        "    class_accuracies = cm.diagonal() / cm.sum(axis=1)\n",
        "\n",
        "    # Show per-class accuracy\n",
        "    print(\"\\nAccuracy per class:\")\n",
        "    print(\"-\"*60)\n",
        "    for i, (category, accuracy) in enumerate(zip(categories, class_accuracies)):\n",
        "        correct = cm[i, i]\n",
        "        total = cm[i].sum()\n",
        "        print(f\"Class {i} ({category:<15}): {accuracy:6.2%}\")\n",
        "\n",
        "    # Overall accuracy\n",
        "    overall_accuracy = l2_model.score(X_test_selected, y_test)\n",
        "    print(\"-\"*60)\n",
        "    print(f\"Overall Accuracy: {overall_accuracy:.2%}\")\n",
        "\n",
        "if __name__ == \"__main__\":\n",
        "    main()"
      ]
    }
  ]
}